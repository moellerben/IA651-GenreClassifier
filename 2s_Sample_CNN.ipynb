{
 "cells": [
  {
   "attachments": {},
   "cell_type": "markdown",
   "metadata": {},
   "source": [
    "Model Building\n",
    "This workbook is compiled to get some information about the dataset, build the CNN, Optimize the process at a few steps and take some countermeasures for overfitting, and then give a summary fo the performance"
   ]
  },
  {
   "cell_type": "code",
   "execution_count": 1,
   "metadata": {},
   "outputs": [],
   "source": [
    "import tensorflow as tf\n",
    "from tensorflow.keras.models import Sequential\n",
    "from tensorflow.keras.layers import Dense, Conv2D, Flatten, Dropout, MaxPooling2D\n",
    "from tensorflow.keras.preprocessing.image import ImageDataGenerator, img_to_array, load_img\n",
    "from tensorflow.keras.callbacks import EarlyStopping\n",
    "from tensorflow.keras import layers\n",
    "from tensorflow.keras.layers import BatchNormalization\n",
    "from tensorflow.keras import regularizers\n",
    "import os\n",
    "import numpy as np\n",
    "import matplotlib.pyplot as plt"
   ]
  },
  {
   "attachments": {},
   "cell_type": "markdown",
   "metadata": {},
   "source": [
    "The next two steps are just to help reduce the computation time as it takes a long time to train the model"
   ]
  },
  {
   "cell_type": "code",
   "execution_count": 2,
   "metadata": {},
   "outputs": [],
   "source": [
    "tf.config.optimizer.set_jit(True)"
   ]
  },
  {
   "cell_type": "code",
   "execution_count": 3,
   "metadata": {},
   "outputs": [],
   "source": [
    "#early stopping implemented to reduce very long processing times\n",
    "early_stopping = EarlyStopping(monitor='val_loss', patience=5, restore_best_weights=True)"
   ]
  },
  {
   "attachments": {},
   "cell_type": "markdown",
   "metadata": {},
   "source": [
    "Define the batch size, set the number of epochs to be sufficicently large so that the early stopping function can work, defient he image height and width, and the training and validatation set paths."
   ]
  },
  {
   "cell_type": "code",
   "execution_count": 27,
   "metadata": {},
   "outputs": [],
   "source": [
    "#a number of variations of these parameters were used to try and find a balance of best accuracy and runtime, smaller batch sizes made it take much much longer to run a training session\n",
    "batch_size = 128\n",
    "epochs = 100\n",
    "num_steps = 100\n",
    "#image height and width were reduced to try and make it run faster but it didnt have much of an effect so the full image sizes were used\n",
    "IMG_HEIGHT = 196\n",
    "IMG_WIDTH = 129\n",
    "TRAIN_PATH = 'train2'\n",
    "VAL_PATH = 'test2'"
   ]
  },
  {
   "attachments": {},
   "cell_type": "markdown",
   "metadata": {},
   "source": [
    "There are varying nuymbers of samples for each genre, so we need to calculate the weight of each genre so that we can try to not overtrain the model on certain genres"
   ]
  },
  {
   "cell_type": "code",
   "execution_count": 45,
   "metadata": {},
   "outputs": [],
   "source": [
    "classes = sorted(os.listdir(TRAIN_PATH))\n",
    "num_samples = []\n",
    "\n",
    "for c in classes:\n",
    "    class_dir = os.path.join(TRAIN_PATH, c)\n",
    "    num_samples.append(len(os.listdir(class_dir)))"
   ]
  },
  {
   "cell_type": "code",
   "execution_count": 50,
   "metadata": {},
   "outputs": [],
   "source": [
    "total_samples = sum(num_samples)\n",
    "num_classes = len(classes)\n",
    "num_samples_per_class = total_samples / num_classes\n",
    "\n",
    "class_weight = {}\n",
    "for i, c in enumerate(classes):\n",
    "    class_weight[i] = total_samples / (num_classes * num_samples[i])\n",
    "\n",
    "class_weight = np.array(list(class_weight.values()))"
   ]
  },
  {
   "cell_type": "code",
   "execution_count": 51,
   "metadata": {},
   "outputs": [
    {
     "name": "stdout",
     "output_type": "stream",
     "text": [
      "{0: 0.32302158273381293, 1: 55.34186046511628, 2: 9.956903765690377, 3: 0.6826448651749857, 4: 8.94624060150376, 5: 2.2323639774859285, 6: 9.713061224489795, 7: 0.5645788849347568, 8: 4.90659793814433, 9: 0.37270164447924825}\n"
     ]
    }
   ],
   "source": [
    "weights = {}\n",
    "for i, class_name in enumerate(class_names):\n",
    "    weights[i] = class_weight[i]\n",
    "print(weights)"
   ]
  },
  {
   "attachments": {},
   "cell_type": "markdown",
   "metadata": {},
   "source": [
    "Define the validation and training data sets"
   ]
  },
  {
   "cell_type": "code",
   "execution_count": 11,
   "metadata": {},
   "outputs": [
    {
     "name": "stdout",
     "output_type": "stream",
     "text": [
      "Found 10448 files belonging to 10 classes.\n"
     ]
    }
   ],
   "source": [
    "val_data =  tf.keras.utils.image_dataset_from_directory(\n",
    "    batch_size=batch_size,\n",
    "    label_mode='categorical',\n",
    "    directory=VAL_PATH,\n",
    "    shuffle=True,\n",
    "    color_mode=\"grayscale\",\n",
    "    image_size=(IMG_HEIGHT, IMG_WIDTH))"
   ]
  },
  {
   "cell_type": "code",
   "execution_count": 30,
   "metadata": {},
   "outputs": [
    {
     "name": "stdout",
     "output_type": "stream",
     "text": [
      "Found 23797 files belonging to 10 classes.\n"
     ]
    }
   ],
   "source": [
    "train_data =  tf.keras.utils.image_dataset_from_directory(\n",
    "    batch_size=batch_size,\n",
    "    label_mode='categorical',\n",
    "    directory=TRAIN_PATH,\n",
    "    color_mode=\"grayscale\",\n",
    "    shuffle=True,\n",
    "    image_size=(IMG_HEIGHT, IMG_WIDTH))\n"
   ]
  },
  {
   "cell_type": "code",
   "execution_count": 31,
   "metadata": {},
   "outputs": [
    {
     "name": "stdout",
     "output_type": "stream",
     "text": [
      "['alt', 'classical', 'country', 'edm', 'funk&soul', 'hip hop', 'jazz', 'pop', 'r&b', 'rock']\n"
     ]
    }
   ],
   "source": [
    "class_names = train_data.class_names\n",
    "print(class_names)\n",
    "\n"
   ]
  },
  {
   "attachments": {},
   "cell_type": "markdown",
   "metadata": {},
   "source": [
    "here is the model we went with, various number of filters and layers were tested, but these were the results that had the best balance between model accuracy and runtime"
   ]
  },
  {
   "cell_type": "code",
   "execution_count": 48,
   "metadata": {},
   "outputs": [
    {
     "name": "stdout",
     "output_type": "stream",
     "text": [
      "Model: \"sequential_6\"\n",
      "_________________________________________________________________\n",
      " Layer (type)                Output Shape              Param #   \n",
      "=================================================================\n",
      " conv2d_24 (Conv2D)          (None, 194, 127, 16)      160       \n",
      "                                                                 \n",
      " batch_normalization_12 (Bat  (None, 194, 127, 16)     64        \n",
      " chNormalization)                                                \n",
      "                                                                 \n",
      " conv2d_25 (Conv2D)          (None, 192, 125, 16)      2320      \n",
      "                                                                 \n",
      " max_pooling2d_12 (MaxPoolin  (None, 96, 62, 16)       0         \n",
      " g2D)                                                            \n",
      "                                                                 \n",
      " conv2d_26 (Conv2D)          (None, 94, 60, 32)        4640      \n",
      "                                                                 \n",
      " batch_normalization_13 (Bat  (None, 94, 60, 32)       128       \n",
      " chNormalization)                                                \n",
      "                                                                 \n",
      " conv2d_27 (Conv2D)          (None, 92, 58, 32)        9248      \n",
      "                                                                 \n",
      " max_pooling2d_13 (MaxPoolin  (None, 46, 29, 32)       0         \n",
      " g2D)                                                            \n",
      "                                                                 \n",
      " flatten_6 (Flatten)         (None, 42688)             0         \n",
      "                                                                 \n",
      " dropout_6 (Dropout)         (None, 42688)             0         \n",
      "                                                                 \n",
      " dense_6 (Dense)             (None, 10)                426890    \n",
      "                                                                 \n",
      "=================================================================\n",
      "Total params: 443,450\n",
      "Trainable params: 443,354\n",
      "Non-trainable params: 96\n",
      "_________________________________________________________________\n"
     ]
    }
   ],
   "source": [
    "model = Sequential([\n",
    "    layers.Input(shape=(IMG_HEIGHT,IMG_WIDTH,1)),\n",
    "    layers.Conv2D(16, kernel_size=(3, 3), activation=\"relu\", kernel_regularizer=regularizers.l2(0.01)),\n",
    "    layers.BatchNormalization(),\n",
    "    layers.Conv2D(16, kernel_size=(3, 3), activation=\"relu\", kernel_regularizer=regularizers.l2(0.01)),\n",
    "    layers.MaxPooling2D(pool_size=(2, 2)),\n",
    "    layers.Conv2D(32, kernel_size=(3, 3), activation=\"relu\", kernel_regularizer=regularizers.l2(0.01)),\n",
    "    layers.BatchNormalization(),\n",
    "     layers.Conv2D(32, kernel_size=(3, 3), activation=\"relu\", kernel_regularizer=regularizers.l2(0.01)),\n",
    "    layers.MaxPooling2D(pool_size=(2, 2)),\n",
    "    layers.Flatten(),\n",
    "    layers.Dropout(0.5),\n",
    "    layers.Dense(len(class_names), activation=\"softmax\"),\n",
    "])\n",
    "model.compile(optimizer='adam',              \n",
    "              loss=\"categorical_crossentropy\",              \n",
    "              metrics=['accuracy'])\n",
    "\n",
    "model.summary()"
   ]
  },
  {
   "attachments": {},
   "cell_type": "markdown",
   "metadata": {},
   "source": [
    "Now we run the model through our data and track the accuracy in the training and validation sets"
   ]
  },
  {
   "cell_type": "code",
   "execution_count": 52,
   "metadata": {},
   "outputs": [
    {
     "name": "stdout",
     "output_type": "stream",
     "text": [
      "Epoch 1/100\n",
      "100/100 [==============================] - 269s 3s/step - loss: 8.2792 - accuracy: 0.1427 - val_loss: 3.3447 - val_accuracy: 0.1471\n",
      "Epoch 2/100\n",
      "100/100 [==============================] - 248s 2s/step - loss: 2.5958 - accuracy: 0.2022 - val_loss: 2.7248 - val_accuracy: 0.1817\n",
      "Epoch 3/100\n",
      "100/100 [==============================] - 252s 3s/step - loss: 2.3431 - accuracy: 0.2466 - val_loss: 2.5225 - val_accuracy: 0.2538\n",
      "Epoch 4/100\n",
      "100/100 [==============================] - 255s 3s/step - loss: 2.0221 - accuracy: 0.3068 - val_loss: 2.6149 - val_accuracy: 0.2104\n",
      "Epoch 5/100\n",
      "100/100 [==============================] - 249s 2s/step - loss: 1.8643 - accuracy: 0.3450 - val_loss: 2.6155 - val_accuracy: 0.2194\n",
      "Epoch 6/100\n",
      "100/100 [==============================] - 249s 2s/step - loss: 1.6909 - accuracy: 0.3860 - val_loss: 2.4849 - val_accuracy: 0.2739\n",
      "Epoch 7/100\n",
      "100/100 [==============================] - 249s 2s/step - loss: 1.5204 - accuracy: 0.4248 - val_loss: 2.5651 - val_accuracy: 0.2406\n",
      "Epoch 8/100\n",
      "100/100 [==============================] - 250s 2s/step - loss: 1.3656 - accuracy: 0.4749 - val_loss: 2.6501 - val_accuracy: 0.2263\n",
      "Epoch 9/100\n",
      "100/100 [==============================] - 249s 2s/step - loss: 1.2437 - accuracy: 0.5108 - val_loss: 2.4125 - val_accuracy: 0.3123\n",
      "Epoch 10/100\n",
      "100/100 [==============================] - 250s 2s/step - loss: 1.1807 - accuracy: 0.5436 - val_loss: 2.9031 - val_accuracy: 0.1939\n",
      "Epoch 11/100\n",
      "100/100 [==============================] - 263s 3s/step - loss: 1.1045 - accuracy: 0.5483 - val_loss: 2.5517 - val_accuracy: 0.2825\n",
      "Epoch 12/100\n",
      "100/100 [==============================] - 263s 3s/step - loss: 1.0200 - accuracy: 0.5866 - val_loss: 2.5049 - val_accuracy: 0.3133\n",
      "Epoch 13/100\n",
      "100/100 [==============================] - 249s 2s/step - loss: 0.9477 - accuracy: 0.6143 - val_loss: 2.2603 - val_accuracy: 0.3249\n",
      "Epoch 14/100\n",
      "100/100 [==============================] - 250s 2s/step - loss: 0.8964 - accuracy: 0.6392 - val_loss: 2.1573 - val_accuracy: 0.3702\n",
      "Epoch 15/100\n",
      "100/100 [==============================] - 249s 2s/step - loss: 0.8550 - accuracy: 0.6505 - val_loss: 2.4616 - val_accuracy: 0.2962\n",
      "Epoch 16/100\n",
      "100/100 [==============================] - 249s 2s/step - loss: 0.8065 - accuracy: 0.6730 - val_loss: 2.2575 - val_accuracy: 0.3595\n",
      "Epoch 17/100\n",
      "100/100 [==============================] - 251s 3s/step - loss: 0.7738 - accuracy: 0.6834 - val_loss: 2.2254 - val_accuracy: 0.3662\n",
      "Epoch 18/100\n",
      "100/100 [==============================] - 260s 3s/step - loss: 0.7371 - accuracy: 0.6945 - val_loss: 2.5491 - val_accuracy: 0.3430\n",
      "Epoch 19/100\n",
      "100/100 [==============================] - 263s 3s/step - loss: 0.7083 - accuracy: 0.7160 - val_loss: 2.3011 - val_accuracy: 0.3808\n"
     ]
    }
   ],
   "source": [
    "history = model.fit(\n",
    "    train_data,\n",
    "    epochs=epochs,\n",
    "    validation_data=val_data,\n",
    "    callbacks=[early_stopping],\n",
    "    class_weight=weights\n",
    ")"
   ]
  },
  {
   "attachments": {},
   "cell_type": "markdown",
   "metadata": {},
   "source": [
    "Measure the accuracy and loss over the iterations"
   ]
  },
  {
   "cell_type": "code",
   "execution_count": 53,
   "metadata": {},
   "outputs": [
    {
     "data": {
      "image/png": "[encoded data removed]",
      "text/plain": [
       "<Figure size 640x480 with 1 Axes>"
      ]
     },
     "metadata": {},
     "output_type": "display_data"
    }
   ],
   "source": [
    "plt.plot(history.history['accuracy'], label='Training Accuracy')\n",
    "plt.plot(history.history['val_accuracy'], label='Validation Accuracy')\n",
    "plt.xlabel('Epoch')\n",
    "plt.ylabel('Accuracy')\n",
    "plt.legend()\n",
    "plt.show()"
   ]
  },
  {
   "cell_type": "code",
   "execution_count": 56,
   "metadata": {},
   "outputs": [
    {
     "data": {
      "image/png": "[encoded data removed]",
      "text/plain": [
       "<Figure size 640x480 with 1 Axes>"
      ]
     },
     "metadata": {},
     "output_type": "display_data"
    }
   ],
   "source": [
    "plt.plot(history.history['loss'], label='Training Loss')\n",
    "plt.plot(history.history['val_loss'], label='Validation Loss')\n",
    "plt.xlabel('Epoch')\n",
    "plt.ylabel('loss')\n",
    "plt.legend()\n",
    "plt.show()"
   ]
  },
  {
   "attachments": {},
   "cell_type": "markdown",
   "metadata": {},
   "source": [
    "Look at how the accuracy for each individual genre to see if we can get any insight on what is happening, the F1 sccore gives us a general overall number on how the model is performing at identifying each genre"
   ]
  },
  {
   "cell_type": "code",
   "execution_count": 54,
   "metadata": {},
   "outputs": [
    {
     "name": "stdout",
     "output_type": "stream",
     "text": [
      "164/164 [==============================] - 37s 225ms/step\n",
      "{'alt': {'precision': 0.31398201144726084, 'recall': 0.2350061199510404, 'f1-score': 0.26881344067203355, 'support': 3268}, 'classical': {'precision': 0.0, 'recall': 0.0, 'f1-score': 0.0, 'support': 22}, 'country': {'precision': 0.024390243902439025, 'recall': 0.017241379310344827, 'f1-score': 0.020202020202020204, 'support': 116}, 'edm': {'precision': 0.13674459638288486, 'recall': 0.2027468933943754, 'f1-score': 0.16332982086406742, 'support': 1529}, 'funk&soul': {'precision': 0.0, 'recall': 0.0, 'f1-score': 0.0, 'support': 134}, 'hip hop': {'precision': 0.04721030042918455, 'recall': 0.022964509394572025, 'f1-score': 0.030898876404494385, 'support': 479}, 'jazz': {'precision': 0.013157894736842105, 'recall': 0.010526315789473684, 'f1-score': 0.011695906432748537, 'support': 95}, 'pop': {'precision': 0.18010291595197256, 'recall': 0.16535433070866143, 'f1-score': 0.1724137931034483, 'support': 1905}, 'r&b': {'precision': 0.02702702702702703, 'recall': 0.014634146341463415, 'f1-score': 0.018987341772151903, 'support': 205}, 'rock': {'precision': 0.2582449941107185, 'recall': 0.325417439703154, 'f1-score': 0.2879658512559514, 'support': 2695}, 'accuracy': 0.21889356814701377, 'macro avg': {'precision': 0.10008599839883295, 'recall': 0.09938911345930852, 'f1-score': 0.09743070507069157, 'support': 10448}, 'weighted avg': {'precision': 0.22075761466642194, 'recall': 0.21889356814701377, 'f1-score': 0.215819044556835, 'support': 10448}}\n"
     ]
    }
   ],
   "source": [
    "from sklearn.metrics import classification_report\n",
    "\n",
    "# Get the predictions for the validation data\n",
    "y_pred = model.predict(val_data)\n",
    "\n",
    "# Convert the predicted probabilities to class labels\n",
    "y_pred_classes = np.argmax(y_pred, axis=1)\n",
    "\n",
    "# Get the true class for each exampley_true = []\n",
    "y_true_list = []\n",
    "for image, label in val_data:\n",
    "    y_true_list.append(np.argmax(label.numpy(), axis=1))\n",
    "y_true = np.concatenate(y_true_list)\n",
    "# Compute the classification report\n",
    "report = classification_report(y_true, y_pred_classes, target_names=class_names, output_dict=True)\n",
    "\n",
    "# Print the classification report\n",
    "print(report)\n"
   ]
  },
  {
   "cell_type": "code",
   "execution_count": 55,
   "metadata": {},
   "outputs": [
    {
     "name": "stdout",
     "output_type": "stream",
     "text": [
      "             precision recall f1-score  support\n",
      "alt               0.31   0.24     0.27     3268\n",
      "classical         0.00   0.00     0.00       22\n",
      "country           0.02   0.02     0.02      116\n",
      "edm               0.14   0.20     0.16     1529\n",
      "funk&soul         0.00   0.00     0.00      134\n",
      "hip hop           0.05   0.02     0.03      479\n",
      "jazz              0.01   0.01     0.01       95\n",
      "pop               0.18   0.17     0.17     1905\n",
      "r&b               0.03   0.01     0.02      205\n",
      "rock              0.26   0.33     0.29     2695\n",
      "accuracy          0.22   0.22     0.22        0\n",
      "macro avg         0.10   0.10     0.10    10448\n",
      "weighted avg      0.22   0.22     0.22    10448\n"
     ]
    }
   ],
   "source": [
    "import pandas as pd\n",
    "\n",
    "# create dataframe from classification report\n",
    "df_report = pd.DataFrame.from_dict(report).transpose()\n",
    "\n",
    "# format float columns\n",
    "df_report['precision'] = df_report['precision'].map('{:.2f}'.format)\n",
    "df_report['recall'] = df_report['recall'].map('{:.2f}'.format)\n",
    "df_report['f1-score'] = df_report['f1-score'].map('{:.2f}'.format)\n",
    "df_report['support'] = df_report['support'].astype(int)\n",
    "\n",
    "# print dataframe\n",
    "print(df_report)"
   ]
  },
  {
   "attachments": {},
   "cell_type": "markdown",
   "metadata": {},
   "source": [
    "             precision recall f1-score  support\n",
    "alt               0.31   0.24     0.27     3268\n",
    "classical         0.00   0.00     0.00       22\n",
    "country           0.02   0.02     0.02      116\n",
    "edm               0.14   0.20     0.16     1529\n",
    "funk&soul         0.00   0.00     0.00      134\n",
    "hip hop           0.05   0.02     0.03      479\n",
    "jazz              0.01   0.01     0.01       95\n",
    "pop               0.18   0.17     0.17     1905\n",
    "r&b               0.03   0.01     0.02      205\n",
    "rock              0.26   0.33     0.29     2695\n",
    "accuracy          0.22   0.22     0.22        0\n",
    "macro avg         0.10   0.10     0.10    10448\n",
    "weighted avg      0.22   0.22     0.22    10448"
   ]
  }
 ],
 "metadata": {
  "kernelspec": {
   "display_name": "Python 3",
   "language": "python",
   "name": "python3"
  },
  "language_info": {
   "codemirror_mode": {
    "name": "ipython",
    "version": 3
   },
   "file_extension": ".py",
   "mimetype": "text/x-python",
   "name": "python",
   "nbconvert_exporter": "python",
   "pygments_lexer": "ipython3",
   "version": "3.10.7"
  },
  "orig_nbformat": 4
 },
 "nbformat": 4,
 "nbformat_minor": 2
}
